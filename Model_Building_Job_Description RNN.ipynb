{
 "cells": [
  {
   "cell_type": "code",
   "execution_count": 1,
   "id": "b7e8cc4b",
   "metadata": {
    "id": "b7e8cc4b"
   },
   "outputs": [],
   "source": [
    "import pandas as pd\n",
    "import numpy as np\n",
    "import matplotlib.pyplot as plt \n",
    "# train test split \n",
    "from sklearn.model_selection import train_test_split"
   ]
  },
  {
   "cell_type": "code",
   "execution_count": 3,
   "id": "4df21eeb",
   "metadata": {
    "colab": {
     "base_uri": "https://localhost:8080/",
     "height": 377
    },
    "id": "4df21eeb",
    "outputId": "c9bbbe58-f681-4dcc-ca28-a8cf32542411"
   },
   "outputs": [
    {
     "data": {
      "text/html": [
       "<div>\n",
       "<style scoped>\n",
       "    .dataframe tbody tr th:only-of-type {\n",
       "        vertical-align: middle;\n",
       "    }\n",
       "\n",
       "    .dataframe tbody tr th {\n",
       "        vertical-align: top;\n",
       "    }\n",
       "\n",
       "    .dataframe thead th {\n",
       "        text-align: right;\n",
       "    }\n",
       "</style>\n",
       "<table border=\"1\" class=\"dataframe\">\n",
       "  <thead>\n",
       "    <tr style=\"text-align: right;\">\n",
       "      <th></th>\n",
       "      <th>Unnamed: 0</th>\n",
       "      <th>Job Title</th>\n",
       "      <th>Salary Estimate</th>\n",
       "      <th>Job Description</th>\n",
       "      <th>Rating</th>\n",
       "      <th>Company Name</th>\n",
       "      <th>Location</th>\n",
       "      <th>Size</th>\n",
       "      <th>Founded</th>\n",
       "      <th>Type of ownership</th>\n",
       "      <th>...</th>\n",
       "      <th>spark</th>\n",
       "      <th>aws</th>\n",
       "      <th>excel</th>\n",
       "      <th>sql</th>\n",
       "      <th>django</th>\n",
       "      <th>hadoop</th>\n",
       "      <th>java</th>\n",
       "      <th>db</th>\n",
       "      <th>tableau</th>\n",
       "      <th>azure</th>\n",
       "    </tr>\n",
       "  </thead>\n",
       "  <tbody>\n",
       "    <tr>\n",
       "      <th>0</th>\n",
       "      <td>0</td>\n",
       "      <td>Data Scientist</td>\n",
       "      <td>$74K - $139K</td>\n",
       "      <td>Intro (Use Font Arial 12):\\nAs a Data Scientis...</td>\n",
       "      <td>4.4</td>\n",
       "      <td>Applied Information Sciences</td>\n",
       "      <td>Chevy Chase, MD</td>\n",
       "      <td>501 to 1000 Employees</td>\n",
       "      <td>1982</td>\n",
       "      <td>Unknown</td>\n",
       "      <td>...</td>\n",
       "      <td>0</td>\n",
       "      <td>0</td>\n",
       "      <td>0</td>\n",
       "      <td>1</td>\n",
       "      <td>0</td>\n",
       "      <td>0</td>\n",
       "      <td>0</td>\n",
       "      <td>1</td>\n",
       "      <td>0</td>\n",
       "      <td>1</td>\n",
       "    </tr>\n",
       "    <tr>\n",
       "      <th>1</th>\n",
       "      <td>1</td>\n",
       "      <td>Web Developer</td>\n",
       "      <td>$41K - $83K</td>\n",
       "      <td>We are the fastest growing employer of emergin...</td>\n",
       "      <td>4.0</td>\n",
       "      <td>Revature</td>\n",
       "      <td>Tampa, FL</td>\n",
       "      <td>1001 to 5000 Employees</td>\n",
       "      <td>2003</td>\n",
       "      <td>Unknown</td>\n",
       "      <td>...</td>\n",
       "      <td>0</td>\n",
       "      <td>0</td>\n",
       "      <td>0</td>\n",
       "      <td>0</td>\n",
       "      <td>0</td>\n",
       "      <td>0</td>\n",
       "      <td>0</td>\n",
       "      <td>0</td>\n",
       "      <td>0</td>\n",
       "      <td>0</td>\n",
       "    </tr>\n",
       "    <tr>\n",
       "      <th>2</th>\n",
       "      <td>2</td>\n",
       "      <td>Data Analyst</td>\n",
       "      <td>$43K - $88K</td>\n",
       "      <td>HR Data Analyst - Direct Hire - Buffalo, NY\\nO...</td>\n",
       "      <td>4.1</td>\n",
       "      <td>Systems Personnel</td>\n",
       "      <td>Niagara Falls, NY</td>\n",
       "      <td>1 to 50 Employees</td>\n",
       "      <td>1996</td>\n",
       "      <td>Unknown</td>\n",
       "      <td>...</td>\n",
       "      <td>0</td>\n",
       "      <td>0</td>\n",
       "      <td>0</td>\n",
       "      <td>1</td>\n",
       "      <td>0</td>\n",
       "      <td>0</td>\n",
       "      <td>0</td>\n",
       "      <td>0</td>\n",
       "      <td>1</td>\n",
       "      <td>0</td>\n",
       "    </tr>\n",
       "    <tr>\n",
       "      <th>3</th>\n",
       "      <td>3</td>\n",
       "      <td>Database Administrator</td>\n",
       "      <td>$68K - $136K</td>\n",
       "      <td>Secure our Nation, Ignite your Future\\nBecome ...</td>\n",
       "      <td>4.2</td>\n",
       "      <td>ManTech International Corporation</td>\n",
       "      <td>Fort Meade, MD</td>\n",
       "      <td>5001 to 10000 Employees</td>\n",
       "      <td>1968</td>\n",
       "      <td>Unknown</td>\n",
       "      <td>...</td>\n",
       "      <td>0</td>\n",
       "      <td>0</td>\n",
       "      <td>0</td>\n",
       "      <td>0</td>\n",
       "      <td>0</td>\n",
       "      <td>0</td>\n",
       "      <td>0</td>\n",
       "      <td>1</td>\n",
       "      <td>0</td>\n",
       "      <td>0</td>\n",
       "    </tr>\n",
       "    <tr>\n",
       "      <th>4</th>\n",
       "      <td>4</td>\n",
       "      <td>iOS Developer</td>\n",
       "      <td>$72K - $104K</td>\n",
       "      <td>Are you an iOS developer who loves to create m...</td>\n",
       "      <td>4.1</td>\n",
       "      <td>Garmin</td>\n",
       "      <td>Olathe, KS</td>\n",
       "      <td>10000+ Employees</td>\n",
       "      <td>1989</td>\n",
       "      <td>Unknown</td>\n",
       "      <td>...</td>\n",
       "      <td>0</td>\n",
       "      <td>0</td>\n",
       "      <td>0</td>\n",
       "      <td>0</td>\n",
       "      <td>0</td>\n",
       "      <td>0</td>\n",
       "      <td>0</td>\n",
       "      <td>0</td>\n",
       "      <td>0</td>\n",
       "      <td>0</td>\n",
       "    </tr>\n",
       "    <tr>\n",
       "      <th>...</th>\n",
       "      <td>...</td>\n",
       "      <td>...</td>\n",
       "      <td>...</td>\n",
       "      <td>...</td>\n",
       "      <td>...</td>\n",
       "      <td>...</td>\n",
       "      <td>...</td>\n",
       "      <td>...</td>\n",
       "      <td>...</td>\n",
       "      <td>...</td>\n",
       "      <td>...</td>\n",
       "      <td>...</td>\n",
       "      <td>...</td>\n",
       "      <td>...</td>\n",
       "      <td>...</td>\n",
       "      <td>...</td>\n",
       "      <td>...</td>\n",
       "      <td>...</td>\n",
       "      <td>...</td>\n",
       "      <td>...</td>\n",
       "      <td>...</td>\n",
       "    </tr>\n",
       "    <tr>\n",
       "      <th>4912</th>\n",
       "      <td>4912</td>\n",
       "      <td>Front End Developer</td>\n",
       "      <td>$58K - $117K</td>\n",
       "      <td>US Citizenship is required\\nFront end Develope...</td>\n",
       "      <td>-1.0</td>\n",
       "      <td>EDR Technology</td>\n",
       "      <td>Ashburn, VA</td>\n",
       "      <td>Unknown</td>\n",
       "      <td>-1</td>\n",
       "      <td>Unknown</td>\n",
       "      <td>...</td>\n",
       "      <td>0</td>\n",
       "      <td>0</td>\n",
       "      <td>0</td>\n",
       "      <td>0</td>\n",
       "      <td>0</td>\n",
       "      <td>0</td>\n",
       "      <td>1</td>\n",
       "      <td>1</td>\n",
       "      <td>0</td>\n",
       "      <td>0</td>\n",
       "    </tr>\n",
       "    <tr>\n",
       "      <th>4913</th>\n",
       "      <td>4913</td>\n",
       "      <td>Sr Software Quality Engineer</td>\n",
       "      <td>$78K - $147K</td>\n",
       "      <td>PRA Health Sciences is seeking the best and br...</td>\n",
       "      <td>4.0</td>\n",
       "      <td>PRA Health Sciences</td>\n",
       "      <td>San Diego, CA</td>\n",
       "      <td>10000+ Employees</td>\n",
       "      <td>1976</td>\n",
       "      <td>Unknown</td>\n",
       "      <td>...</td>\n",
       "      <td>0</td>\n",
       "      <td>0</td>\n",
       "      <td>0</td>\n",
       "      <td>0</td>\n",
       "      <td>0</td>\n",
       "      <td>0</td>\n",
       "      <td>0</td>\n",
       "      <td>0</td>\n",
       "      <td>0</td>\n",
       "      <td>0</td>\n",
       "    </tr>\n",
       "    <tr>\n",
       "      <th>4914</th>\n",
       "      <td>4914</td>\n",
       "      <td>Lead Mobile Engineer</td>\n",
       "      <td>$79K - $162K</td>\n",
       "      <td>About Us\\nWe are a fintech startup with a miss...</td>\n",
       "      <td>-1.0</td>\n",
       "      <td>Treecard</td>\n",
       "      <td>Austin, TX</td>\n",
       "      <td>Unknown</td>\n",
       "      <td>-1</td>\n",
       "      <td>Unknown</td>\n",
       "      <td>...</td>\n",
       "      <td>0</td>\n",
       "      <td>0</td>\n",
       "      <td>0</td>\n",
       "      <td>0</td>\n",
       "      <td>0</td>\n",
       "      <td>0</td>\n",
       "      <td>0</td>\n",
       "      <td>0</td>\n",
       "      <td>0</td>\n",
       "      <td>0</td>\n",
       "    </tr>\n",
       "    <tr>\n",
       "      <th>4915</th>\n",
       "      <td>4915</td>\n",
       "      <td>Cloud Infrastructure Engineer (SRE/Java)</td>\n",
       "      <td>$61K - $132K</td>\n",
       "      <td>Every day, Global Payments makes it possible f...</td>\n",
       "      <td>3.5</td>\n",
       "      <td>Global Payments</td>\n",
       "      <td>Columbus, GA</td>\n",
       "      <td>10000+ Employees</td>\n",
       "      <td>1967</td>\n",
       "      <td>Unknown</td>\n",
       "      <td>...</td>\n",
       "      <td>0</td>\n",
       "      <td>0</td>\n",
       "      <td>0</td>\n",
       "      <td>0</td>\n",
       "      <td>0</td>\n",
       "      <td>0</td>\n",
       "      <td>0</td>\n",
       "      <td>0</td>\n",
       "      <td>0</td>\n",
       "      <td>0</td>\n",
       "    </tr>\n",
       "    <tr>\n",
       "      <th>4916</th>\n",
       "      <td>4916</td>\n",
       "      <td>Development Chapter Lead in Retail</td>\n",
       "      <td>$51K - $97K</td>\n",
       "      <td>Job Description\\nOwn the build the products th...</td>\n",
       "      <td>3.5</td>\n",
       "      <td>Vanguard</td>\n",
       "      <td>Malvern, PA</td>\n",
       "      <td>10000+ Employees</td>\n",
       "      <td>1975</td>\n",
       "      <td>Unknown</td>\n",
       "      <td>...</td>\n",
       "      <td>0</td>\n",
       "      <td>0</td>\n",
       "      <td>0</td>\n",
       "      <td>0</td>\n",
       "      <td>0</td>\n",
       "      <td>0</td>\n",
       "      <td>0</td>\n",
       "      <td>0</td>\n",
       "      <td>0</td>\n",
       "      <td>0</td>\n",
       "    </tr>\n",
       "  </tbody>\n",
       "</table>\n",
       "<p>4917 rows × 35 columns</p>\n",
       "</div>"
      ],
      "text/plain": [
       "      Unnamed: 0                                 Job Title Salary Estimate  \\\n",
       "0              0                            Data Scientist   $74K - $139K    \n",
       "1              1                             Web Developer    $41K - $83K    \n",
       "2              2                              Data Analyst    $43K - $88K    \n",
       "3              3                    Database Administrator   $68K - $136K    \n",
       "4              4                             iOS Developer   $72K - $104K    \n",
       "...          ...                                       ...             ...   \n",
       "4912        4912                       Front End Developer   $58K - $117K    \n",
       "4913        4913              Sr Software Quality Engineer   $78K - $147K    \n",
       "4914        4914                      Lead Mobile Engineer   $79K - $162K    \n",
       "4915        4915  Cloud Infrastructure Engineer (SRE/Java)   $61K - $132K    \n",
       "4916        4916        Development Chapter Lead in Retail    $51K - $97K    \n",
       "\n",
       "                                        Job Description  Rating  \\\n",
       "0     Intro (Use Font Arial 12):\\nAs a Data Scientis...     4.4   \n",
       "1     We are the fastest growing employer of emergin...     4.0   \n",
       "2     HR Data Analyst - Direct Hire - Buffalo, NY\\nO...     4.1   \n",
       "3     Secure our Nation, Ignite your Future\\nBecome ...     4.2   \n",
       "4     Are you an iOS developer who loves to create m...     4.1   \n",
       "...                                                 ...     ...   \n",
       "4912  US Citizenship is required\\nFront end Develope...    -1.0   \n",
       "4913  PRA Health Sciences is seeking the best and br...     4.0   \n",
       "4914  About Us\\nWe are a fintech startup with a miss...    -1.0   \n",
       "4915  Every day, Global Payments makes it possible f...     3.5   \n",
       "4916  Job Description\\nOwn the build the products th...     3.5   \n",
       "\n",
       "                           Company Name           Location  \\\n",
       "0          Applied Information Sciences    Chevy Chase, MD   \n",
       "1                              Revature          Tampa, FL   \n",
       "2                     Systems Personnel  Niagara Falls, NY   \n",
       "3     ManTech International Corporation     Fort Meade, MD   \n",
       "4                                Garmin         Olathe, KS   \n",
       "...                                 ...                ...   \n",
       "4912                     EDR Technology        Ashburn, VA   \n",
       "4913                PRA Health Sciences      San Diego, CA   \n",
       "4914                           Treecard         Austin, TX   \n",
       "4915                    Global Payments       Columbus, GA   \n",
       "4916                           Vanguard        Malvern, PA   \n",
       "\n",
       "                         Size Founded Type of ownership  ... spark aws excel  \\\n",
       "0       501 to 1000 Employees    1982           Unknown  ...     0   0     0   \n",
       "1      1001 to 5000 Employees    2003           Unknown  ...     0   0     0   \n",
       "2           1 to 50 Employees    1996           Unknown  ...     0   0     0   \n",
       "3     5001 to 10000 Employees    1968           Unknown  ...     0   0     0   \n",
       "4            10000+ Employees    1989           Unknown  ...     0   0     0   \n",
       "...                       ...     ...               ...  ...   ...  ..   ...   \n",
       "4912                  Unknown      -1           Unknown  ...     0   0     0   \n",
       "4913         10000+ Employees    1976           Unknown  ...     0   0     0   \n",
       "4914                  Unknown      -1           Unknown  ...     0   0     0   \n",
       "4915         10000+ Employees    1967           Unknown  ...     0   0     0   \n",
       "4916         10000+ Employees    1975           Unknown  ...     0   0     0   \n",
       "\n",
       "      sql  django  hadoop  java  db tableau  azure  \n",
       "0       1       0       0     0   1       0      1  \n",
       "1       0       0       0     0   0       0      0  \n",
       "2       1       0       0     0   0       1      0  \n",
       "3       0       0       0     0   1       0      0  \n",
       "4       0       0       0     0   0       0      0  \n",
       "...   ...     ...     ...   ...  ..     ...    ...  \n",
       "4912    0       0       0     1   1       0      0  \n",
       "4913    0       0       0     0   0       0      0  \n",
       "4914    0       0       0     0   0       0      0  \n",
       "4915    0       0       0     0   0       0      0  \n",
       "4916    0       0       0     0   0       0      0  \n",
       "\n",
       "[4917 rows x 35 columns]"
      ]
     },
     "execution_count": 3,
     "metadata": {},
     "output_type": "execute_result"
    }
   ],
   "source": [
    "df = pd.read_csv(\"Data/preprocessed_data.csv\")\n",
    "df"
   ]
  },
  {
   "cell_type": "code",
   "execution_count": 4,
   "id": "cf80a2c0",
   "metadata": {
    "id": "cf80a2c0"
   },
   "outputs": [
    {
     "data": {
      "text/plain": [
       "Index(['Unnamed: 0', 'Job Title', 'Salary Estimate', 'Job Description',\n",
       "       'Rating', 'Company Name', 'Location', 'Size', 'Founded',\n",
       "       'Type of ownership', 'Industry', 'Sector', 'Revenue', 'hourly',\n",
       "       'employer_provided', 'min_salary', 'max_salary', 'avg_salary',\n",
       "       'job_state', 'age', 'job_title_tag', 'seniority', 'desc_len', 'python',\n",
       "       'R', 'spark', 'aws', 'excel', 'sql', 'django', 'hadoop', 'java', 'db',\n",
       "       'tableau', 'azure'],\n",
       "      dtype='object')"
      ]
     },
     "execution_count": 4,
     "metadata": {},
     "output_type": "execute_result"
    }
   ],
   "source": [
    "df.columns"
   ]
  },
  {
   "cell_type": "code",
   "execution_count": 5,
   "id": "distinct-batch",
   "metadata": {
    "id": "distinct-batch"
   },
   "outputs": [
    {
     "data": {
      "text/plain": [
       "array(['Data Scientist', 'Web Developer', 'Data Analyst', ...,\n",
       "       'Lead Mobile Engineer', 'Cloud Infrastructure Engineer (SRE/Java)',\n",
       "       'Development Chapter Lead in Retail'], dtype=object)"
      ]
     },
     "execution_count": 5,
     "metadata": {},
     "output_type": "execute_result"
    }
   ],
   "source": [
    "df['Job Title'].unique()"
   ]
  },
  {
   "cell_type": "code",
   "execution_count": 6,
   "id": "23a685a1",
   "metadata": {
    "id": "23a685a1"
   },
   "outputs": [],
   "source": [
    "df_model = df[['Job Title', 'Rating','Company Name', 'Company Name', 'Size',\n",
    "               'Type of ownership', 'Industry', 'Sector', 'Revenue', 'hourly', 'employer_provided',\n",
    "               'avg_salary', 'job_state', 'age',\n",
    "               'job_title_tag', 'seniority', 'desc_len', 'python', 'R', 'spark', 'aws',\n",
    "               'excel', 'sql', 'django', 'hadoop', 'java', 'db', 'tableau', 'azure']]\n",
    "               "
   ]
  },
  {
   "cell_type": "code",
   "execution_count": 7,
   "id": "fea9af22",
   "metadata": {
    "id": "fea9af22"
   },
   "outputs": [],
   "source": [
    "dummy_df = pd.get_dummies(df_model)\n",
    "\n",
    "X = dummy_df.drop('avg_salary', axis =1)\n",
    "y = dummy_df.avg_salary.values\n",
    "\n",
    "X_train, X_test, y_train, y_test = train_test_split(X, y, test_size=0.3, random_state=24)"
   ]
  },
  {
   "cell_type": "code",
   "execution_count": 8,
   "id": "3eff3d41",
   "metadata": {
    "id": "3eff3d41"
   },
   "outputs": [
    {
     "data": {
      "text/plain": [
       "1023.6835468781777"
      ]
     },
     "execution_count": 8,
     "metadata": {},
     "output_type": "execute_result"
    }
   ],
   "source": [
    "df['Job Description'].map(lambda x: len(x)).mean()"
   ]
  },
  {
   "cell_type": "code",
   "execution_count": 9,
   "id": "completed-taxation",
   "metadata": {
    "id": "completed-taxation"
   },
   "outputs": [
    {
     "name": "stdout",
     "output_type": "stream",
     "text": [
      "Requirement already satisfied: nltk in c:\\users\\eisha\\anaconda3\\lib\\site-packages (3.6.1)\n",
      "Requirement already satisfied: regex in c:\\users\\eisha\\anaconda3\\lib\\site-packages (from nltk) (2021.4.4)\n",
      "Requirement already satisfied: joblib in c:\\users\\eisha\\anaconda3\\lib\\site-packages (from nltk) (1.0.1)\n",
      "Requirement already satisfied: tqdm in c:\\users\\eisha\\anaconda3\\lib\\site-packages (from nltk) (4.59.0)\n",
      "Requirement already satisfied: click in c:\\users\\eisha\\anaconda3\\lib\\site-packages (from nltk) (7.1.2)\n"
     ]
    }
   ],
   "source": [
    "! pip install nltk"
   ]
  },
  {
   "cell_type": "code",
   "execution_count": 10,
   "id": "distinct-generation",
   "metadata": {
    "id": "distinct-generation"
   },
   "outputs": [],
   "source": [
    "from nltk.stem.porter import PorterStemmer\n",
    "from nltk.tokenize import RegexpTokenizer\n",
    "from sklearn.feature_extraction.text import CountVectorizer, TfidfVectorizer"
   ]
  },
  {
   "cell_type": "code",
   "execution_count": 11,
   "id": "solved-mayor",
   "metadata": {
    "id": "solved-mayor"
   },
   "outputs": [],
   "source": [
    "stemmer = PorterStemmer()\n",
    "tokenizer = RegexpTokenizer(\"[a-z']+\")"
   ]
  },
  {
   "cell_type": "code",
   "execution_count": 12,
   "id": "legendary-nightlife",
   "metadata": {
    "id": "legendary-nightlife"
   },
   "outputs": [],
   "source": [
    "# preprocess text\n",
    "def get_tokens(description):\n",
    "    text_tokens = tokenizer.tokenize(description)\n",
    "    stemmed_tokens = [stemmer.stem(x) for x in text_tokens]\n",
    "    return stemmed_tokens"
   ]
  },
  {
   "cell_type": "code",
   "execution_count": null,
   "id": "popular-citizen",
   "metadata": {
    "id": "popular-citizen"
   },
   "outputs": [],
   "source": [
    "vectorizer = TfidfVectorizer(stop_words='english', ngram_range=(1,1), tokenizer=get_tokens)"
   ]
  },
  {
   "cell_type": "code",
   "execution_count": null,
   "id": "acoustic-assurance",
   "metadata": {
    "id": "acoustic-assurance"
   },
   "outputs": [],
   "source": [
    "transformed_text = vectorizer.fit_transform(df['Job Description'])"
   ]
  },
  {
   "cell_type": "code",
   "execution_count": null,
   "id": "electrical-frank",
   "metadata": {
    "id": "electrical-frank"
   },
   "outputs": [],
   "source": [
    "transformed_text"
   ]
  },
  {
   "cell_type": "code",
   "execution_count": null,
   "id": "quantitative-victorian",
   "metadata": {
    "id": "quantitative-victorian"
   },
   "outputs": [],
   "source": [
    "X_train, X_test, y_train, y_test = train_test_split(transformed_text, df['avg_salary'], test_size=0.3)"
   ]
  },
  {
   "cell_type": "markdown",
   "id": "fleet-grounds",
   "metadata": {
    "id": "fleet-grounds"
   },
   "source": []
  },
  {
   "cell_type": "code",
   "execution_count": null,
   "id": "general-joint",
   "metadata": {
    "id": "general-joint"
   },
   "outputs": [],
   "source": [
    "from sklearn.naive_bayes import GaussianNB"
   ]
  },
  {
   "cell_type": "code",
   "execution_count": null,
   "id": "bacterial-friendly",
   "metadata": {
    "id": "bacterial-friendly"
   },
   "outputs": [],
   "source": [
    "gnb_model = GaussianNB().fit(X_train.toarray(), y_train.astype('int'))"
   ]
  },
  {
   "cell_type": "code",
   "execution_count": null,
   "id": "available-international",
   "metadata": {
    "id": "available-international"
   },
   "outputs": [],
   "source": [
    "y_pred = gnb_model.predict(X_test.toarray())"
   ]
  },
  {
   "cell_type": "code",
   "execution_count": null,
   "id": "motivated-wrapping",
   "metadata": {
    "id": "motivated-wrapping"
   },
   "outputs": [],
   "source": [
    "mean_squared_error(y_test, y_pred)"
   ]
  },
  {
   "cell_type": "code",
   "execution_count": null,
   "id": "better-focus",
   "metadata": {
    "id": "better-focus"
   },
   "outputs": [],
   "source": [
    "from sklearn.ensemble import RandomForestRegressor\n",
    "rf_model = RandomForestRegressor().fit(X_train.toarray(), y_train.astype('int'))"
   ]
  },
  {
   "cell_type": "code",
   "execution_count": null,
   "id": "scientific-brown",
   "metadata": {
    "id": "scientific-brown"
   },
   "outputs": [],
   "source": [
    "y_pred = rf_model.predict(X_test.toarray())"
   ]
  },
  {
   "cell_type": "code",
   "execution_count": null,
   "id": "suspended-listening",
   "metadata": {
    "id": "suspended-listening"
   },
   "outputs": [],
   "source": [
    "mean_squared_error(y_test, y_pred)"
   ]
  },
  {
   "cell_type": "code",
   "execution_count": null,
   "id": "minor-girlfriend",
   "metadata": {
    "id": "minor-girlfriend"
   },
   "outputs": [],
   "source": [
    "\n",
    "!pip install tensorflow_hub"
   ]
  },
  {
   "cell_type": "code",
   "execution_count": null,
   "id": "McLqE7YAs52B",
   "metadata": {
    "id": "McLqE7YAs52B"
   },
   "outputs": [],
   "source": [
    "import tensorflow as tf\n",
    "import tensorflow_hub as hub"
   ]
  },
  {
   "cell_type": "code",
   "execution_count": null,
   "id": "0IOXomaEs6_H",
   "metadata": {
    "id": "0IOXomaEs6_H"
   },
   "outputs": [],
   "source": [
    "\n",
    "model_link = \"https://tfhub.dev/google/tf2-preview/gnews-swivel-20dim/1\"\n",
    "hub_layer = hub.KerasLayer(model_link, output_shape=[20], input_shape=[], \n",
    "                           dtype=tf.string, trainable=True)"
   ]
  },
  {
   "cell_type": "code",
   "execution_count": null,
   "id": "uQST-EnNs7zI",
   "metadata": {
    "id": "uQST-EnNs7zI"
   },
   "outputs": [],
   "source": [
    "model = tf.keras.Sequential()\n",
    "model.add(hub_layer)\n",
    "model.add(tf.keras.layers.Dense(128, activation='relu'))\n",
    "model.add(tf.keras.layers.Dropout(0.2))\n",
    "model.add(tf.keras.layers.Dense(64, activation='relu'))\n",
    "model.add(tf.keras.layers.Dropout(0.2))\n",
    "model.add(tf.keras.layers.Dense(1, activation='relu'))\n",
    "\n",
    "model.summary()"
   ]
  },
  {
   "cell_type": "code",
   "execution_count": null,
   "id": "WH0B2AfUs85n",
   "metadata": {
    "id": "WH0B2AfUs85n"
   },
   "outputs": [],
   "source": [
    "model.compile(optimizer='adam',\n",
    "              loss=tf.losses.MeanSquaredError(),\n",
    "              metrics=['mae', 'mse', 'msle'])"
   ]
  },
  {
   "cell_type": "code",
   "execution_count": null,
   "id": "fYRHQHWFs-DU",
   "metadata": {
    "id": "fYRHQHWFs-DU"
   },
   "outputs": [],
   "source": [
    "history = model.fit(df['Job Description'], df['avg_salary'],\n",
    "                    epochs=50,\n",
    "                    batch_size=256,\n",
    "                    verbose=1)"
   ]
  },
  {
   "cell_type": "code",
   "execution_count": null,
   "id": "chiRaUbUtz8d",
   "metadata": {
    "id": "chiRaUbUtz8d"
   },
   "outputs": [],
   "source": [
    "tf.config.experimental_run_functions_eagerly(True)"
   ]
  },
  {
   "cell_type": "code",
   "execution_count": null,
   "id": "3dg-qwzTvBgp",
   "metadata": {
    "id": "3dg-qwzTvBgp"
   },
   "outputs": [],
   "source": [
    "model.predict([\"\"\"As a Data Scientist Architect you will be applying new and innovative methods to address some of our most important intelligence problems \\\n",
    "What You'll Be Doing:\\\n",
    "Knowledge and experience in designing and implementing AI apps and agents that use the Microsoft Azure Cognitive Services, Azure Bot Service, Azure Cognitive Search, and data storage options \\\n",
    "Analyzing requirements for AI solutions Experience with NoSQL databases Experience with applying Data Science techniques to overhead imagery (computer vision, object detection \\\n",
    "Ability to work autonomously and collaboratively as part of a team to both teach and learn every day\"\"\"])"
   ]
  },
  {
   "cell_type": "code",
   "execution_count": null,
   "id": "8sgjTU5FxvHA",
   "metadata": {
    "id": "8sgjTU5FxvHA"
   },
   "outputs": [],
   "source": []
  },
  {
   "cell_type": "code",
   "execution_count": null,
   "id": "QG4b8Bq20cg_",
   "metadata": {
    "id": "QG4b8Bq20cg_"
   },
   "outputs": [],
   "source": [
    "model.predict([\"\"\"We are looking for a full time iOS Software Engineer to join our team in Olathe, KS. In this role, you’ll be responsible for architecting and developing complex software utilized by the suite of Garmin mobile applications. Responsibilities include:\n",
    "Develop software using Swift and Objective-C\n",
    "Utilize tools in the software development process such as Git, Gerrit, Bitbucket, Jira, Confluence, Xcode, and Jenkins\n",
    "Create and implement designs for software components within a larger project\"\"\"])"
   ]
  },
  {
   "cell_type": "markdown",
   "id": "5DeboXCA0fum",
   "metadata": {
    "id": "5DeboXCA0fum"
   },
   "source": [
    "## RNN - LSTM\n"
   ]
  },
  {
   "cell_type": "code",
   "execution_count": 13,
   "id": "l5zPdmxr7B_4",
   "metadata": {
    "id": "l5zPdmxr7B_4"
   },
   "outputs": [],
   "source": [
    "\n",
    "from tensorflow.keras.preprocessing.text import Tokenizer\n",
    "from tensorflow.keras.preprocessing import sequence\n",
    "from tensorflow.keras.utils import to_categorical\n",
    "from tensorflow.keras.callbacks import EarlyStopping\n",
    "from tensorflow.keras.models import Model\n",
    "from tensorflow.keras.optimizers import RMSprop\n",
    "from tensorflow.keras.layers import LSTM, Activation, Dense, Dropout, Input, Embedding, BatchNormalization"
   ]
  },
  {
   "cell_type": "code",
   "execution_count": 14,
   "id": "f2A88YG77Emz",
   "metadata": {
    "id": "f2A88YG77Emz"
   },
   "outputs": [],
   "source": [
    "max_words = 10000\n",
    "max_len = 1500\n",
    "tok = Tokenizer(num_words=max_words)\n",
    "tok.fit_on_texts(df['Job Description'])\n",
    "sequences = tok.texts_to_sequences(df['Job Description'])\n",
    "sequences_matrix = sequence.pad_sequences(sequences,maxlen=max_len)"
   ]
  },
  {
   "cell_type": "code",
   "execution_count": 15,
   "id": "COjpixqz7GCX",
   "metadata": {
    "id": "COjpixqz7GCX"
   },
   "outputs": [],
   "source": [
    "def RNN():\n",
    "    inputs = Input(name='inputs',shape=[max_len])\n",
    "    layer = Embedding(max_words,100,input_length=max_len)(inputs)\n",
    "    layer = LSTM(64)(layer)\n",
    "    layer = Dense(128,name='FC1')(layer)\n",
    "    layer = Activation('relu')(layer)\n",
    "    layer = Dropout(0.2)(layer)\n",
    "    # layer = BatchNormalization()(layer)\n",
    "    layer = Dense(64,name='FC2')(layer)\n",
    "    layer = Activation('sigmoid')(layer)\n",
    "    layer = Dropout(0.5)(layer)\n",
    "    layer = Dense(1,name='out_layer')(layer)\n",
    "    layer = Activation('relu')(layer)\n",
    "    model = Model(inputs=inputs,outputs=layer)\n",
    "    return model"
   ]
  },
  {
   "cell_type": "code",
   "execution_count": 25,
   "id": "olC0Bz8k7Hon",
   "metadata": {
    "id": "olC0Bz8k7Hon"
   },
   "outputs": [
    {
     "name": "stdout",
     "output_type": "stream",
     "text": [
      "Model: \"model_1\"\n",
      "_________________________________________________________________\n",
      "Layer (type)                 Output Shape              Param #   \n",
      "=================================================================\n",
      "inputs (InputLayer)          [(None, 1500)]            0         \n",
      "_________________________________________________________________\n",
      "embedding_1 (Embedding)      (None, 1500, 100)         1000000   \n",
      "_________________________________________________________________\n",
      "lstm_1 (LSTM)                (None, 64)                42240     \n",
      "_________________________________________________________________\n",
      "FC1 (Dense)                  (None, 128)               8320      \n",
      "_________________________________________________________________\n",
      "activation_3 (Activation)    (None, 128)               0         \n",
      "_________________________________________________________________\n",
      "dropout_2 (Dropout)          (None, 128)               0         \n",
      "_________________________________________________________________\n",
      "FC2 (Dense)                  (None, 64)                8256      \n",
      "_________________________________________________________________\n",
      "activation_4 (Activation)    (None, 64)                0         \n",
      "_________________________________________________________________\n",
      "dropout_3 (Dropout)          (None, 64)                0         \n",
      "_________________________________________________________________\n",
      "out_layer (Dense)            (None, 1)                 65        \n",
      "_________________________________________________________________\n",
      "activation_5 (Activation)    (None, 1)                 0         \n",
      "=================================================================\n",
      "Total params: 1,058,881\n",
      "Trainable params: 1,058,881\n",
      "Non-trainable params: 0\n",
      "_________________________________________________________________\n"
     ]
    }
   ],
   "source": [
    "model = RNN()\n",
    "model.summary()\n",
    "model.compile(loss='mse',optimizer=RMSprop(),metrics=['mae', 'mse', 'msle'])"
   ]
  },
  {
   "cell_type": "code",
   "execution_count": null,
   "id": "qUPY7AjM7Iui",
   "metadata": {
    "id": "qUPY7AjM7Iui"
   },
   "outputs": [
    {
     "name": "stdout",
     "output_type": "stream",
     "text": [
      "Epoch 1/50\n",
      "62/62 [==============================] - 95s 1s/step - loss: 7049.8320 - mae: 78.8164 - mse: 7049.8320 - msle: 6.5356 - val_loss: 7367.3555 - val_mae: 82.7319 - val_mse: 7367.3555 - val_msle: 5.1779\n",
      "Epoch 2/50\n",
      "62/62 [==============================] - 91s 1s/step - loss: 6572.9932 - mae: 75.7369 - mse: 6572.9932 - msle: 4.4198 - val_loss: 6965.6885 - val_mae: 80.2677 - val_mse: 6965.6885 - val_msle: 4.1701\n",
      "Epoch 3/50\n",
      "62/62 [==============================] - 89s 1s/step - loss: 6198.6113 - mae: 73.2200 - mse: 6198.6113 - msle: 3.5726 - val_loss: 6568.8794 - val_mae: 77.7566 - val_mse: 6568.8794 - val_msle: 3.4239\n",
      "Epoch 4/50\n",
      "62/62 [==============================] - 91s 1s/step - loss: 5840.9692 - mae: 70.7129 - mse: 5840.9692 - msle: 2.9477 - val_loss: 6186.0527 - val_mae: 75.2546 - val_mse: 6186.0527 - val_msle: 2.8586\n",
      "Epoch 5/50\n",
      "62/62 [==============================] - 92s 1s/step - loss: 5490.7954 - mae: 68.1964 - mse: 5490.7954 - msle: 2.4644 - val_loss: 5815.5947 - val_mae: 72.7527 - val_mse: 5815.5947 - val_msle: 2.4137\n",
      "Epoch 6/50\n",
      "62/62 [==============================] - 89s 1s/step - loss: 5171.3525 - mae: 65.8049 - mse: 5171.3525 - msle: 2.0983 - val_loss: 5457.9854 - val_mae: 70.2622 - val_mse: 5457.9854 - val_msle: 2.0554\n",
      "Epoch 7/50\n",
      "62/62 [==============================] - 90s 1s/step - loss: 4841.9165 - mae: 63.2933 - mse: 4841.9165 - msle: 1.7830 - val_loss: 5113.0869 - val_mae: 67.7731 - val_mse: 5113.0869 - val_msle: 1.7614\n",
      "Epoch 8/50\n",
      "62/62 [==============================] - 93s 2s/step - loss: 4516.8804 - mae: 60.6547 - mse: 4516.8804 - msle: 1.5124 - val_loss: 4767.2383 - val_mae: 65.1814 - val_mse: 4767.2383 - val_msle: 1.5073\n",
      "Epoch 9/50\n",
      "62/62 [==============================] - 91s 1s/step - loss: 4220.8354 - mae: 58.1330 - mse: 4220.8354 - msle: 1.2996 - val_loss: 4441.6992 - val_mae: 62.6464 - val_mse: 4441.6992 - val_msle: 1.2988\n",
      "Epoch 10/50\n",
      "62/62 [==============================] - 90s 1s/step - loss: 3942.4238 - mae: 55.7185 - mse: 3942.4238 - msle: 1.1264 - val_loss: 4128.4683 - val_mae: 60.1181 - val_mse: 4128.4683 - val_msle: 1.1216\n",
      "Epoch 11/50\n",
      "62/62 [==============================] - 87s 1s/step - loss: 3667.0649 - mae: 53.3685 - mse: 3667.0649 - msle: 0.9763 - val_loss: 3828.3796 - val_mae: 57.6106 - val_mse: 3828.3796 - val_msle: 0.9704\n",
      "Epoch 12/50\n",
      "62/62 [==============================] - 87s 1s/step - loss: 3386.0015 - mae: 50.6563 - mse: 3386.0015 - msle: 0.8364 - val_loss: 3541.2117 - val_mae: 55.1172 - val_mse: 3541.2117 - val_msle: 0.8406\n",
      "Epoch 13/50\n",
      "62/62 [==============================] - 89s 1s/step - loss: 3150.3135 - mae: 48.3784 - mse: 3150.3135 - msle: 0.7295 - val_loss: 3267.0554 - val_mae: 52.6413 - val_mse: 3267.0554 - val_msle: 0.7285\n",
      "Epoch 14/50\n",
      "62/62 [==============================] - 86s 1s/step - loss: 2916.1428 - mae: 46.1969 - mse: 2916.1428 - msle: 0.6374 - val_loss: 3008.1733 - val_mae: 50.1970 - val_mse: 3008.1733 - val_msle: 0.6323\n",
      "Epoch 15/50\n",
      "62/62 [==============================] - 87s 1s/step - loss: 2685.8362 - mae: 43.8163 - mse: 2685.8362 - msle: 0.5513 - val_loss: 2761.4749 - val_mae: 47.7626 - val_mse: 2761.4749 - val_msle: 0.5485\n",
      "Epoch 16/50\n",
      "62/62 [==============================] - 87s 1s/step - loss: 2504.4797 - mae: 41.8602 - mse: 2504.4797 - msle: 0.4904 - val_loss: 2527.4326 - val_mae: 45.3582 - val_mse: 2527.4326 - val_msle: 0.4756\n",
      "Epoch 17/50\n",
      "62/62 [==============================] - 87s 1s/step - loss: 2328.4863 - mae: 39.9206 - mse: 2328.4863 - msle: 0.4355 - val_loss: 2308.3076 - val_mae: 43.0083 - val_mse: 2308.3076 - val_msle: 0.4127\n",
      "Epoch 18/50\n",
      "62/62 [==============================] - 87s 1s/step - loss: 2136.3215 - mae: 37.8424 - mse: 2136.3215 - msle: 0.3803 - val_loss: 2101.7251 - val_mae: 40.6857 - val_mse: 2101.7251 - val_msle: 0.3578\n",
      "Epoch 19/50\n",
      "62/62 [==============================] - 87s 1s/step - loss: 1963.8247 - mae: 35.8938 - mse: 1963.8247 - msle: 0.3344 - val_loss: 1907.6897 - val_mae: 38.3990 - val_mse: 1907.6897 - val_msle: 0.3101\n",
      "Epoch 20/50\n",
      "62/62 [==============================] - 87s 1s/step - loss: 1818.0729 - mae: 34.3136 - mse: 1818.0729 - msle: 0.2993 - val_loss: 1726.5465 - val_mae: 36.1577 - val_mse: 1726.5465 - val_msle: 0.2687\n",
      "Epoch 21/50\n",
      "62/62 [==============================] - 87s 1s/step - loss: 1676.7191 - mae: 32.4871 - mse: 1676.7191 - msle: 0.2658 - val_loss: 1559.1537 - val_mae: 33.9798 - val_mse: 1559.1537 - val_msle: 0.2330\n",
      "Epoch 22/50\n",
      "62/62 [==============================] - 86s 1s/step - loss: 1542.9459 - mae: 30.8166 - mse: 1542.9459 - msle: 0.2365 - val_loss: 1404.8746 - val_mae: 31.8957 - val_mse: 1404.8746 - val_msle: 0.2024\n",
      "Epoch 23/50\n",
      "62/62 [==============================] - 87s 1s/step - loss: 1468.0736 - mae: 29.7435 - mse: 1468.0736 - msle: 0.2229 - val_loss: 1266.0050 - val_mae: 29.9361 - val_mse: 1266.0050 - val_msle: 0.1766\n",
      "Epoch 24/50\n",
      "62/62 [==============================] - 86s 1s/step - loss: 1353.9121 - mae: 28.5076 - mse: 1353.9121 - msle: 0.2021 - val_loss: 1139.6333 - val_mae: 28.0945 - val_mse: 1139.6333 - val_msle: 0.1547\n",
      "Epoch 25/50\n",
      "62/62 [==============================] - 87s 1s/step - loss: 1259.3185 - mae: 27.2693 - mse: 1259.3185 - msle: 0.1845 - val_loss: 1027.1987 - val_mae: 26.4150 - val_mse: 1027.1987 - val_msle: 0.1364\n",
      "Epoch 26/50\n",
      "62/62 [==============================] - 88s 1s/step - loss: 1184.2552 - mae: 26.1603 - mse: 1184.2552 - msle: 0.1720 - val_loss: 927.1570 - val_mae: 24.8370 - val_mse: 927.1570 - val_msle: 0.1212\n",
      "Epoch 27/50\n",
      "62/62 [==============================] - 86s 1s/step - loss: 1135.1178 - mae: 25.6280 - mse: 1135.1178 - msle: 0.1659 - val_loss: 840.1141 - val_mae: 23.3763 - val_mse: 840.1141 - val_msle: 0.1089\n",
      "Epoch 28/50\n",
      "62/62 [==============================] - 88s 1s/step - loss: 1093.6620 - mae: 25.1438 - mse: 1093.6620 - msle: 0.1597 - val_loss: 771.2128 - val_mae: 22.1464 - val_mse: 771.2128 - val_msle: 0.0998\n",
      "Epoch 29/50\n",
      "62/62 [==============================] - 90s 1s/step - loss: 1023.9791 - mae: 24.3408 - mse: 1023.9791 - msle: 0.1509 - val_loss: 711.8253 - val_mae: 21.0406 - val_mse: 711.8253 - val_msle: 0.0925\n",
      "Epoch 30/50\n",
      "62/62 [==============================] - 90s 1s/step - loss: 1043.3163 - mae: 24.6348 - mse: 1043.3163 - msle: 0.1546 - val_loss: 669.1661 - val_mae: 20.2225 - val_mse: 669.1661 - val_msle: 0.0876\n",
      "Epoch 31/50\n",
      "62/62 [==============================] - 92s 1s/step - loss: 1019.2360 - mae: 24.1376 - mse: 1019.2360 - msle: 0.1514 - val_loss: 635.7005 - val_mae: 19.5763 - val_mse: 635.7005 - val_msle: 0.0841\n",
      "Epoch 32/50\n",
      "62/62 [==============================] - 87s 1s/step - loss: 1013.7748 - mae: 24.4001 - mse: 1013.7748 - msle: 0.1510 - val_loss: 617.2230 - val_mae: 19.2186 - val_mse: 617.2230 - val_msle: 0.0823\n",
      "Epoch 33/50\n",
      "62/62 [==============================] - 87s 1s/step - loss: 992.1948 - mae: 23.9337 - mse: 992.1948 - msle: 0.1482 - val_loss: 604.0544 - val_mae: 18.9632 - val_mse: 604.0544 - val_msle: 0.0810\n",
      "Epoch 34/50\n",
      "62/62 [==============================] - 88s 1s/step - loss: 986.6392 - mae: 23.8768 - mse: 986.6392 - msle: 0.1479 - val_loss: 599.0347 - val_mae: 18.8689 - val_mse: 599.0347 - val_msle: 0.0806\n",
      "Epoch 35/50\n",
      "62/62 [==============================] - 89s 1s/step - loss: 994.4190 - mae: 24.2044 - mse: 994.4190 - msle: 0.1501 - val_loss: 593.0607 - val_mae: 18.7558 - val_mse: 593.0607 - val_msle: 0.0801\n",
      "Epoch 36/50\n",
      "62/62 [==============================] - 88s 1s/step - loss: 985.4236 - mae: 23.9964 - mse: 985.4236 - msle: 0.1486 - val_loss: 590.2527 - val_mae: 18.7036 - val_mse: 590.2527 - val_msle: 0.0798\n",
      "Epoch 37/50\n",
      "62/62 [==============================] - 86s 1s/step - loss: 979.2357 - mae: 23.8796 - mse: 979.2357 - msle: 0.1470 - val_loss: 585.6620 - val_mae: 18.6175 - val_mse: 585.6620 - val_msle: 0.0794\n",
      "Epoch 38/50\n",
      "62/62 [==============================] - 87s 1s/step - loss: 1006.7422 - mae: 24.2744 - mse: 1006.7422 - msle: 0.1512 - val_loss: 585.5013 - val_mae: 18.6146 - val_mse: 585.5013 - val_msle: 0.0794\n",
      "Epoch 39/50\n",
      "62/62 [==============================] - 88s 1s/step - loss: 989.7172 - mae: 23.8853 - mse: 989.7172 - msle: 0.1490 - val_loss: 584.5062 - val_mae: 18.5964 - val_mse: 584.5062 - val_msle: 0.0793\n",
      "Epoch 40/50\n"
     ]
    },
    {
     "name": "stdout",
     "output_type": "stream",
     "text": [
      "62/62 [==============================] - 91s 1s/step - loss: 980.5104 - mae: 23.8024 - mse: 980.5104 - msle: 0.1488 - val_loss: 585.5005 - val_mae: 18.6146 - val_mse: 585.5005 - val_msle: 0.0794\n",
      "Epoch 41/50\n",
      "62/62 [==============================] - 91s 1s/step - loss: 992.1932 - mae: 24.0908 - mse: 992.1932 - msle: 0.1496 - val_loss: 583.4532 - val_mae: 18.5770 - val_mse: 583.4532 - val_msle: 0.0793\n",
      "Epoch 42/50\n",
      "62/62 [==============================] - 91s 1s/step - loss: 987.2313 - mae: 23.9653 - mse: 987.2313 - msle: 0.1482 - val_loss: 582.5054 - val_mae: 18.5593 - val_mse: 582.5054 - val_msle: 0.0792\n",
      "Epoch 43/50\n",
      "34/62 [===============>..............] - ETA: 38s - loss: 950.5822 - mae: 23.9949 - mse: 950.5822 - msle: 0.1474"
     ]
    }
   ],
   "source": [
    "model.fit(sequences_matrix,df['avg_salary'],epochs=50,\n",
    "                    batch_size=64,\n",
    "                    verbose=1 ,validation_split=0.2)"
   ]
  },
  {
   "cell_type": "code",
   "execution_count": null,
   "id": "sK-Do3N97llC",
   "metadata": {
    "id": "sK-Do3N97llC"
   },
   "outputs": [],
   "source": [
    "test_sequences = tok.texts_to_sequences(\n",
    "    [\"\"\"We are looking for a full time iOS Software Engineer to join our team in Olathe, KS. In this role, you’ll be responsible for architecting and developing complex software utilized by the suite of Garmin mobile applications. Responsibilities include:\n",
    "Develop software using Swift and Objective-C\n",
    "Utilize tools in the software development process such as Git, Gerrit, Bitbucket, Jira, Confluence, Xcode, and Jenkins\n",
    "Create and implement designs for software components within a larger project\"\"\"])\n",
    "\n",
    "test_sequences_matrix = sequence.pad_sequences(test_sequences, maxlen = max_len)"
   ]
  },
  {
   "cell_type": "code",
   "execution_count": null,
   "id": "iPZ4mfg28UiB",
   "metadata": {
    "id": "iPZ4mfg28UiB"
   },
   "outputs": [],
   "source": [
    "pred = model.predict(test_sequences_matrix)\n",
    "pred"
   ]
  },
  {
   "cell_type": "code",
   "execution_count": null,
   "id": "LnXFVYf18WYE",
   "metadata": {
    "id": "LnXFVYf18WYE"
   },
   "outputs": [],
   "source": [
    "\n",
    "test_sequences = tok.texts_to_sequences([\"\"\"As a Data Scientist Architect you will be applying new and innovative methods to address some of our most important intelligence problems \\\n",
    "What You'll Be Doing:\\\n",
    "Knowledge and experience in designing and implementing AI apps and agents that use the Microsoft Azure Cognitive Services, Azure Bot Service, Azure Cognitive Search, and data storage options \\\n",
    "Analyzing requirements for AI solutions Experience with NoSQL databases Experience with applying Data Science techniques to overhead imagery (computer vision, object detection \\\n",
    "Ability to work autonomously and collaboratively as part of a team to both teach and learn every day\"\"\"])\n",
    "\n",
    "test_sequences_matrix = sequence.pad_sequences(test_sequences,maxlen = max_len)\n",
    "\n",
    "pred = model.predict(test_sequences_matrix)\n",
    "pred"
   ]
  },
  {
   "cell_type": "code",
   "execution_count": 21,
   "id": "QQ1COxHF8fDK",
   "metadata": {
    "id": "QQ1COxHF8fDK"
   },
   "outputs": [
    {
     "data": {
      "text/plain": [
       "array([   0,    0,    0, ..., 7340, 1642, 1475])"
      ]
     },
     "execution_count": 21,
     "metadata": {},
     "output_type": "execute_result"
    }
   ],
   "source": [
    "sequences_matrix[0]"
   ]
  },
  {
   "cell_type": "code",
   "execution_count": null,
   "id": "dVAcwnCbh705",
   "metadata": {
    "id": "dVAcwnCbh705"
   },
   "outputs": [],
   "source": []
  }
 ],
 "metadata": {
  "accelerator": "GPU",
  "colab": {
   "name": "Model Building-Job Description.ipynb",
   "provenance": []
  },
  "kernelspec": {
   "display_name": "Python 3",
   "language": "python",
   "name": "python3"
  },
  "language_info": {
   "codemirror_mode": {
    "name": "ipython",
    "version": 3
   },
   "file_extension": ".py",
   "mimetype": "text/x-python",
   "name": "python",
   "nbconvert_exporter": "python",
   "pygments_lexer": "ipython3",
   "version": "3.8.8"
  }
 },
 "nbformat": 4,
 "nbformat_minor": 5
}
